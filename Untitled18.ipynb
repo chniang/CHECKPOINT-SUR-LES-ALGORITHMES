{
 "cells": [
  {
   "cell_type": "code",
   "execution_count": null,
   "id": "eafacc38-b919-4ecb-a997-be39110dd3bb",
   "metadata": {},
   "outputs": [],
   "source": [
    "#PROGRAMME PYTHON POUR UNE RECHERCHE BINAIRE\n",
    "def recherche_binaire(liste, element):\n",
    "    debut = 0\n",
    "    fin = len(liste) - 1\n",
    "    while debut <= fin:\n",
    "        milieu = (debut + fin) // 2\n",
    "        if liste[milieu] == element:\n",
    "            return True\n",
    "        elif liste[milieu] < element:\n",
    "            debut = milieu + 1\n",
    "        else:\n",
    "            fin = milieu - 1\n",
    "    return False\n",
    "\n",
    "# Données de test\n",
    "print(recherche_binaire([1, 2, 3, 5, 8], 6))  # Faux\n",
    "print(recherche_binaire([1, 2, 3, 5, 8], 5))  # Vrai\n"
   ]
  },
  {
   "cell_type": "code",
   "execution_count": null,
   "id": "ecf314ee-6890-4587-a8e3-2c5439054ebb",
   "metadata": {},
   "outputs": [],
   "source": [
    "#PROGRAMME PYTHON POUR CALCULE DE PUISSANCE\n",
    "def puissance(a, b):\n",
    "    return a ** b\n",
    "\n",
    "# Données de test\n",
    "print(puissance(3, 4))  # 81\n"
   ]
  },
  {
   "cell_type": "code",
   "execution_count": null,
   "id": "6873536c-81ab-4366-b1ce-0e38d25286f6",
   "metadata": {},
   "outputs": [],
   "source": [
    "#PROGRAMME PYTHON POUR TRIER UNE LISTE DELEMENTS A LAIDE DALGORITHME DE TRIE DE BULL\n",
    "def tri_a_bulles(liste):\n",
    "    n = len(liste)\n",
    "    for i in range(n):\n",
    "        for j in range(0, n-i-1):\n",
    "            if liste[j] > liste[j+1]:\n",
    "                liste[j], liste[j+1] = liste[j+1], liste[j]\n",
    "    return liste\n",
    "\n",
    "# Exemple de données\n",
    "print(tri_a_bulles([29, 13, 22, 37, 52, 49, 46, 71, 56]))\n",
    "# Résultat attendu : [13, 22, 29, 37, 42, 46, 49, 56, 71]\n"
   ]
  },
  {
   "cell_type": "code",
   "execution_count": null,
   "id": "30ca0ed5-7041-47ef-977f-438c24936e15",
   "metadata": {},
   "outputs": [],
   "source": [
    "#PROGRAMME PYTHON POUR TRIER UNE LISTE DELEMENTS A LAIDE DE LALGORITHME DE TRIE DE FUSION\n",
    "def tri_par_fusion(liste):\n",
    "    if len(liste) > 1:\n",
    "        milieu = len(liste) // 2\n",
    "        gauche = liste[:milieu]\n",
    "        droite = liste[milieu:]\n",
    "\n",
    "        tri_par_fusion(gauche)\n",
    "        tri_par_fusion(droite)\n",
    "\n",
    "        i = j = k = 0\n",
    "\n",
    "        while i < len(gauche) and j < len(droite):\n",
    "            if gauche[i] < droite[j]:\n",
    "                liste[k] = gauche[i]\n",
    "                i += 1\n",
    "            else:\n",
    "                liste[k] = droite[j]\n",
    "                j += 1\n",
    "            k += 1\n",
    "\n",
    "        while i < len(gauche):\n",
    "            liste[k] = gauche[i]\n",
    "            i += 1\n",
    "            k += 1\n",
    "\n",
    "        while j < len(droite):\n",
    "            liste[k] = droite[j]\n",
    "            j += 1\n",
    "            k += 1\n",
    "\n",
    "    return liste\n",
    "\n",
    "# Exemple de données\n",
    "print(tri_par_fusion([29, 13, 22, 37, 52, 49, 46, 71, 56]))\n",
    "# Résultat attendu : [13, 22, 29, 37, 42, 46, 49, 56, 71]\n"
   ]
  },
  {
   "cell_type": "code",
   "execution_count": null,
   "id": "0ab822cd-0684-4eb3-8d7c-3b48b36024f1",
   "metadata": {},
   "outputs": [],
   "source": [
    "#PROGRAMME PYTHON POUR TRIER UNE LISTE "
   ]
  }
 ],
 "metadata": {
  "kernelspec": {
   "display_name": "Python 3 (ipykernel)",
   "language": "python",
   "name": "python3"
  },
  "language_info": {
   "codemirror_mode": {
    "name": "ipython",
    "version": 3
   },
   "file_extension": ".py",
   "mimetype": "text/x-python",
   "name": "python",
   "nbconvert_exporter": "python",
   "pygments_lexer": "ipython3",
   "version": "3.12.4"
  }
 },
 "nbformat": 4,
 "nbformat_minor": 5
}
